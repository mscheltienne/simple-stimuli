{
  "cells": [
    {
      "cell_type": "markdown",
      "metadata": {},
      "source": [
        "\n# Base sounds\n\n``simple-stimuli`` provides a common API across audio stimuli. The audio\nstimuli can be either generated or loaded. A generated stimuli can be exported.\nThe volume, duration and other properties can be set when creating the stimuli\nor updated between plays.\n"
      ]
    },
    {
      "cell_type": "code",
      "execution_count": null,
      "metadata": {
        "collapsed": false
      },
      "outputs": [],
      "source": [
        "from matplotlib import pyplot as plt\n\nfrom stimuli.audio import Sound, Tone"
      ]
    },
    {
      "cell_type": "markdown",
      "metadata": {},
      "source": [
        "In this tutorial, we will create, edit, save and load a pure tone auditory\nstimuli. A pure tone is a signal with a sinusoidal waveform, that is a sine\nwave of any frequency, phase-shift and amplitude.\n\nSource: [Wikipedia](https://en.wikipedia.org/wiki/Pure_tone)\n\n"
      ]
    },
    {
      "cell_type": "markdown",
      "metadata": {},
      "source": [
        "## Create and edit a pure tone\n\nTo create the stimuli, we create a :class:`~stimuli.audio.Tone` object with\na given volume and frequency.\n\n"
      ]
    },
    {
      "cell_type": "code",
      "execution_count": null,
      "metadata": {
        "collapsed": false
      },
      "outputs": [],
      "source": [
        "sound = Tone(volume=10, frequency=440)  # La - A440"
      ]
    },
    {
      "cell_type": "markdown",
      "metadata": {},
      "source": [
        "We can listen to the sound we created with :meth:`~stimuli.audio.Tone.play`.\n\n"
      ]
    },
    {
      "cell_type": "code",
      "execution_count": null,
      "metadata": {
        "collapsed": false
      },
      "outputs": [],
      "source": [
        "sound.play(blocking=True)"
      ]
    },
    {
      "cell_type": "markdown",
      "metadata": {},
      "source": [
        "We can edit the sound properties by replacing the value in the attributes.\nFor instance, let's consider a stereo system and set the volume to ``10`` on\nthe left channel and to ``30`` on the right channel.\n\n"
      ]
    },
    {
      "cell_type": "code",
      "execution_count": null,
      "metadata": {
        "collapsed": false
      },
      "outputs": [],
      "source": [
        "sound.volume = (10, 30)  # 0 to 100"
      ]
    },
    {
      "cell_type": "markdown",
      "metadata": {},
      "source": [
        "We can also change the frequency to 1 kHz.\n\n"
      ]
    },
    {
      "cell_type": "code",
      "execution_count": null,
      "metadata": {
        "collapsed": false
      },
      "outputs": [],
      "source": [
        "sound.frequency = 1000  # Hz"
      ]
    },
    {
      "cell_type": "markdown",
      "metadata": {},
      "source": [
        "The sound is updated each time an attribute is changed.\n\n"
      ]
    },
    {
      "cell_type": "code",
      "execution_count": null,
      "metadata": {
        "collapsed": false
      },
      "outputs": [],
      "source": [
        "sound.play(blocking=True)"
      ]
    },
    {
      "cell_type": "markdown",
      "metadata": {},
      "source": [
        "The sampling rate can be changed. Typical values are 44.1 kHz and 48 kHz.\n\n"
      ]
    },
    {
      "cell_type": "code",
      "execution_count": null,
      "metadata": {
        "collapsed": false
      },
      "outputs": [],
      "source": [
        "sound.sample_rate = 48000  # Hz"
      ]
    },
    {
      "cell_type": "markdown",
      "metadata": {},
      "source": [
        "## Export/Load a sound\n\nWe can export a sound with :meth:`~stimuli.audio.Tone.save`.\n\n"
      ]
    },
    {
      "cell_type": "code",
      "execution_count": null,
      "metadata": {
        "collapsed": false
      },
      "outputs": [],
      "source": [
        "sound.save(\"my_pure_tone.wav\", overwrite=True)"
      ]
    },
    {
      "cell_type": "markdown",
      "metadata": {},
      "source": [
        "We can load a sound with :class:`~stimuli.audio.Sound`.\n\n"
      ]
    },
    {
      "cell_type": "code",
      "execution_count": null,
      "metadata": {
        "collapsed": false
      },
      "outputs": [],
      "source": [
        "sound_loaded = Sound(\"my_pure_tone.wav\")\nsound_loaded.play(blocking=True)"
      ]
    },
    {
      "cell_type": "markdown",
      "metadata": {},
      "source": [
        "However, a loaded sound can be any type of sound. ``simple-stimuli`` does not\nknow that the sound was exported with the ``save()`` method of one of its\nclass. As such, the attributes that were specific to the original sound are\nnot present anymore and can not be updated anymore.\n\n"
      ]
    },
    {
      "cell_type": "code",
      "execution_count": null,
      "metadata": {
        "collapsed": false
      },
      "outputs": [],
      "source": [
        "print(hasattr(sound_loaded, \"frequency\"))"
      ]
    },
    {
      "cell_type": "markdown",
      "metadata": {},
      "source": [
        "Only the basic attributes are preserved: ``duration``, ``sample_rate``.\n\n"
      ]
    },
    {
      "cell_type": "code",
      "execution_count": null,
      "metadata": {
        "collapsed": false
      },
      "outputs": [],
      "source": [
        "print(f\"Duration of the original sound: {sound.duration} second.\")\nprint(f\"Duration of the loaded sound: {sound_loaded.duration} second.\")\nprint(f\"Sample rate of the original sound: {sound.sample_rate} Hz.\")\nprint(f\"Sample rate of the loaded sound: {sound_loaded.sample_rate} Hz.\")"
      ]
    },
    {
      "cell_type": "markdown",
      "metadata": {},
      "source": [
        "The volume is normalized, with the loudest channel set to ``100``. The ratio\nbetween channels is preserved.\n\n"
      ]
    },
    {
      "cell_type": "code",
      "execution_count": null,
      "metadata": {
        "collapsed": false
      },
      "outputs": [],
      "source": [
        "print(\n    \"Volume of the original sound: %s\"\n    % \"({:.1f}, {:.1f})\".format(*sound.volume)\n)\nprint(\n    \"Volume of the loaded sound: %s\"\n    % \"({:.1f}, {:.1f})\".format(*sound_loaded.volume)\n)"
      ]
    },
    {
      "cell_type": "markdown",
      "metadata": {},
      "source": [
        "## Visualize a sound\n\nFinally, the underlying signal is stored in the ``signal`` attribute. The\nreturned numpy array has 2 dimensions: ``(n_samples, n_channels)``. We can\nplot the signal of each channel.\n\n"
      ]
    },
    {
      "cell_type": "code",
      "execution_count": null,
      "metadata": {
        "collapsed": false
      },
      "outputs": [],
      "source": [
        "samples_to_plot = 100  # number of samples to plot\ntimes = sound.times[:samples_to_plot] * 1000  # ms\n\nf, ax = plt.subplots(2, 1, sharex=True, sharey=True)\nfor k in range(2):  # 2 channels\n    # draw data\n    ax[k].plot(times, sound.signal[:samples_to_plot, k])\n    # draw horizontal line through y=0\n    ax[k].axhline(0, color=\"black\")\n\n# labels\nax[0].set_title(\"Right channel\")\nax[1].set_title(\"Left channel\")\nax[1].set_xlabel(\"Time (ms)\")\n\n# draw vertical line after each period\nperiod = int(sound.sample_rate / sound.frequency)\nfor k in range(0, samples_to_plot, period):\n    ax[0].axvline(times[k], color=\"lightgreen\")\n    ax[1].axvline(times[k], color=\"lightgreen\")"
      ]
    }
  ],
  "metadata": {
    "kernelspec": {
      "display_name": "Python 3",
      "language": "python",
      "name": "python3"
    },
    "language_info": {
      "codemirror_mode": {
        "name": "ipython",
        "version": 3
      },
      "file_extension": ".py",
      "mimetype": "text/x-python",
      "name": "python",
      "nbconvert_exporter": "python",
      "pygments_lexer": "ipython3",
      "version": "3.11.9"
    }
  },
  "nbformat": 4,
  "nbformat_minor": 0
}